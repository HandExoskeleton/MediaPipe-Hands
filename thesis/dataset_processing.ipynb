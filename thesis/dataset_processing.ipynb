{
 "cells": [
  {
   "cell_type": "code",
   "execution_count": 1,
   "metadata": {},
   "outputs": [
    {
     "name": "stdout",
     "output_type": "stream",
     "text": [
      "Requirement already satisfied: numpy in c:\\users\\erice\\onedrive\\desktop\\mediapipe-hands\\.venv\\lib\\site-packages (2.0.2)\n",
      "Note: you may need to restart the kernel to use updated packages.\n",
      "Requirement already satisfied: mediapipe in c:\\users\\erice\\onedrive\\desktop\\mediapipe-hands\\.venv\\lib\\site-packages (0.10.14)\n",
      "Requirement already satisfied: absl-py in c:\\users\\erice\\onedrive\\desktop\\mediapipe-hands\\.venv\\lib\\site-packages (from mediapipe) (2.1.0)\n",
      "Requirement already satisfied: attrs>=19.1.0 in c:\\users\\erice\\onedrive\\desktop\\mediapipe-hands\\.venv\\lib\\site-packages (from mediapipe) (24.2.0)\n",
      "Requirement already satisfied: flatbuffers>=2.0 in c:\\users\\erice\\onedrive\\desktop\\mediapipe-hands\\.venv\\lib\\site-packages (from mediapipe) (24.3.25)\n",
      "Requirement already satisfied: jax in c:\\users\\erice\\onedrive\\desktop\\mediapipe-hands\\.venv\\lib\\site-packages (from mediapipe) (0.4.30)\n",
      "Requirement already satisfied: jaxlib in c:\\users\\erice\\onedrive\\desktop\\mediapipe-hands\\.venv\\lib\\site-packages (from mediapipe) (0.4.30)\n",
      "Requirement already satisfied: matplotlib in c:\\users\\erice\\onedrive\\desktop\\mediapipe-hands\\.venv\\lib\\site-packages (from mediapipe) (3.9.2)\n",
      "Requirement already satisfied: numpy in c:\\users\\erice\\onedrive\\desktop\\mediapipe-hands\\.venv\\lib\\site-packages (from mediapipe) (2.0.2)\n",
      "Requirement already satisfied: opencv-contrib-python in c:\\users\\erice\\onedrive\\desktop\\mediapipe-hands\\.venv\\lib\\site-packages (from mediapipe) (4.10.0.84)\n",
      "Requirement already satisfied: protobuf<5,>=4.25.3 in c:\\users\\erice\\onedrive\\desktop\\mediapipe-hands\\.venv\\lib\\site-packages (from mediapipe) (4.25.4)\n",
      "Requirement already satisfied: sounddevice>=0.4.4 in c:\\users\\erice\\onedrive\\desktop\\mediapipe-hands\\.venv\\lib\\site-packages (from mediapipe) (0.5.0)\n",
      "Requirement already satisfied: CFFI>=1.0 in c:\\users\\erice\\onedrive\\desktop\\mediapipe-hands\\.venv\\lib\\site-packages (from sounddevice>=0.4.4->mediapipe) (1.17.1)\n",
      "Requirement already satisfied: ml-dtypes>=0.2.0 in c:\\users\\erice\\onedrive\\desktop\\mediapipe-hands\\.venv\\lib\\site-packages (from jax->mediapipe) (0.5.0)\n",
      "Requirement already satisfied: opt-einsum in c:\\users\\erice\\onedrive\\desktop\\mediapipe-hands\\.venv\\lib\\site-packages (from jax->mediapipe) (3.3.0)\n",
      "Requirement already satisfied: scipy>=1.9 in c:\\users\\erice\\onedrive\\desktop\\mediapipe-hands\\.venv\\lib\\site-packages (from jax->mediapipe) (1.13.1)\n",
      "Requirement already satisfied: importlib-metadata>=4.6 in c:\\users\\erice\\onedrive\\desktop\\mediapipe-hands\\.venv\\lib\\site-packages (from jax->mediapipe) (8.5.0)\n",
      "Requirement already satisfied: contourpy>=1.0.1 in c:\\users\\erice\\onedrive\\desktop\\mediapipe-hands\\.venv\\lib\\site-packages (from matplotlib->mediapipe) (1.3.0)\n",
      "Requirement already satisfied: cycler>=0.10 in c:\\users\\erice\\onedrive\\desktop\\mediapipe-hands\\.venv\\lib\\site-packages (from matplotlib->mediapipe) (0.12.1)\n",
      "Requirement already satisfied: fonttools>=4.22.0 in c:\\users\\erice\\onedrive\\desktop\\mediapipe-hands\\.venv\\lib\\site-packages (from matplotlib->mediapipe) (4.53.1)\n",
      "Requirement already satisfied: kiwisolver>=1.3.1 in c:\\users\\erice\\onedrive\\desktop\\mediapipe-hands\\.venv\\lib\\site-packages (from matplotlib->mediapipe) (1.4.7)\n",
      "Requirement already satisfied: packaging>=20.0 in c:\\users\\erice\\onedrive\\desktop\\mediapipe-hands\\.venv\\lib\\site-packages (from matplotlib->mediapipe) (24.1)\n",
      "Requirement already satisfied: pillow>=8 in c:\\users\\erice\\onedrive\\desktop\\mediapipe-hands\\.venv\\lib\\site-packages (from matplotlib->mediapipe) (10.4.0)\n",
      "Requirement already satisfied: pyparsing>=2.3.1 in c:\\users\\erice\\onedrive\\desktop\\mediapipe-hands\\.venv\\lib\\site-packages (from matplotlib->mediapipe) (3.1.4)\n",
      "Requirement already satisfied: python-dateutil>=2.7 in c:\\users\\erice\\onedrive\\desktop\\mediapipe-hands\\.venv\\lib\\site-packages (from matplotlib->mediapipe) (2.9.0.post0)\n",
      "Requirement already satisfied: importlib-resources>=3.2.0 in c:\\users\\erice\\onedrive\\desktop\\mediapipe-hands\\.venv\\lib\\site-packages (from matplotlib->mediapipe) (6.4.5)\n",
      "Requirement already satisfied: pycparser in c:\\users\\erice\\onedrive\\desktop\\mediapipe-hands\\.venv\\lib\\site-packages (from CFFI>=1.0->sounddevice>=0.4.4->mediapipe) (2.22)\n",
      "Requirement already satisfied: zipp>=3.20 in c:\\users\\erice\\onedrive\\desktop\\mediapipe-hands\\.venv\\lib\\site-packages (from importlib-metadata>=4.6->jax->mediapipe) (3.20.2)\n",
      "Requirement already satisfied: six>=1.5 in c:\\users\\erice\\onedrive\\desktop\\mediapipe-hands\\.venv\\lib\\site-packages (from python-dateutil>=2.7->matplotlib->mediapipe) (1.16.0)\n",
      "Note: you may need to restart the kernel to use updated packages.\n",
      "Requirement already satisfied: opencv-python in c:\\users\\erice\\onedrive\\desktop\\mediapipe-hands\\.venv\\lib\\site-packages (4.10.0.84)\n",
      "Requirement already satisfied: numpy>=1.17.0 in c:\\users\\erice\\onedrive\\desktop\\mediapipe-hands\\.venv\\lib\\site-packages (from opencv-python) (2.0.2)\n",
      "Note: you may need to restart the kernel to use updated packages.\n",
      "Requirement already satisfied: matplotlib in c:\\users\\erice\\onedrive\\desktop\\mediapipe-hands\\.venv\\lib\\site-packages (3.9.2)Note: you may need to restart the kernel to use updated packages.\n",
      "\n",
      "Requirement already satisfied: contourpy>=1.0.1 in c:\\users\\erice\\onedrive\\desktop\\mediapipe-hands\\.venv\\lib\\site-packages (from matplotlib) (1.3.0)\n",
      "Requirement already satisfied: cycler>=0.10 in c:\\users\\erice\\onedrive\\desktop\\mediapipe-hands\\.venv\\lib\\site-packages (from matplotlib) (0.12.1)\n",
      "Requirement already satisfied: fonttools>=4.22.0 in c:\\users\\erice\\onedrive\\desktop\\mediapipe-hands\\.venv\\lib\\site-packages (from matplotlib) (4.53.1)\n",
      "Requirement already satisfied: kiwisolver>=1.3.1 in c:\\users\\erice\\onedrive\\desktop\\mediapipe-hands\\.venv\\lib\\site-packages (from matplotlib) (1.4.7)\n",
      "Requirement already satisfied: numpy>=1.23 in c:\\users\\erice\\onedrive\\desktop\\mediapipe-hands\\.venv\\lib\\site-packages (from matplotlib) (2.0.2)\n",
      "Requirement already satisfied: packaging>=20.0 in c:\\users\\erice\\onedrive\\desktop\\mediapipe-hands\\.venv\\lib\\site-packages (from matplotlib) (24.1)\n",
      "Requirement already satisfied: pillow>=8 in c:\\users\\erice\\onedrive\\desktop\\mediapipe-hands\\.venv\\lib\\site-packages (from matplotlib) (10.4.0)\n",
      "Requirement already satisfied: pyparsing>=2.3.1 in c:\\users\\erice\\onedrive\\desktop\\mediapipe-hands\\.venv\\lib\\site-packages (from matplotlib) (3.1.4)\n",
      "Requirement already satisfied: python-dateutil>=2.7 in c:\\users\\erice\\onedrive\\desktop\\mediapipe-hands\\.venv\\lib\\site-packages (from matplotlib) (2.9.0.post0)\n",
      "Requirement already satisfied: importlib-resources>=3.2.0 in c:\\users\\erice\\onedrive\\desktop\\mediapipe-hands\\.venv\\lib\\site-packages (from matplotlib) (6.4.5)\n",
      "Requirement already satisfied: zipp>=3.1.0 in c:\\users\\erice\\onedrive\\desktop\\mediapipe-hands\\.venv\\lib\\site-packages (from importlib-resources>=3.2.0->matplotlib) (3.20.2)\n",
      "Requirement already satisfied: six>=1.5 in c:\\users\\erice\\onedrive\\desktop\\mediapipe-hands\\.venv\\lib\\site-packages (from python-dateutil>=2.7->matplotlib) (1.16.0)\n",
      "Requirement already satisfied: pandas in c:\\users\\erice\\onedrive\\desktop\\mediapipe-hands\\.venv\\lib\\site-packages (2.2.2)\n",
      "Requirement already satisfied: numpy>=1.22.4 in c:\\users\\erice\\onedrive\\desktop\\mediapipe-hands\\.venv\\lib\\site-packages (from pandas) (2.0.2)\n",
      "Requirement already satisfied: python-dateutil>=2.8.2 in c:\\users\\erice\\onedrive\\desktop\\mediapipe-hands\\.venv\\lib\\site-packages (from pandas) (2.9.0.post0)\n",
      "Requirement already satisfied: pytz>=2020.1 in c:\\users\\erice\\onedrive\\desktop\\mediapipe-hands\\.venv\\lib\\site-packages (from pandas) (2024.2)\n",
      "Requirement already satisfied: tzdata>=2022.7 in c:\\users\\erice\\onedrive\\desktop\\mediapipe-hands\\.venv\\lib\\site-packages (from pandas) (2024.1)\n",
      "Requirement already satisfied: six>=1.5 in c:\\users\\erice\\onedrive\\desktop\\mediapipe-hands\\.venv\\lib\\site-packages (from python-dateutil>=2.8.2->pandas) (1.16.0)\n",
      "Note: you may need to restart the kernel to use updated packages.\n"
     ]
    }
   ],
   "source": [
    "%pip install numpy\n",
    "%pip install mediapipe\n",
    "%pip install opencv-python\n",
    "%pip install matplotlib\n",
    "%pip install pandas"
   ]
  },
  {
   "cell_type": "code",
   "execution_count": 1,
   "metadata": {},
   "outputs": [],
   "source": [
    "import pandas as pd\n",
    "import numpy as np\n",
    "import os\n",
    "import mediapipe as mp\n",
    "import csv\n",
    "from mediapipe.tasks import python\n",
    "from mediapipe.tasks.python import vision\n",
    "from itertools import combinations"
   ]
  },
  {
   "cell_type": "code",
   "execution_count": 6,
   "metadata": {},
   "outputs": [
    {
     "name": "stderr",
     "output_type": "stream",
     "text": [
      "c:\\Python39\\lib\\site-packages\\google\\protobuf\\symbol_database.py:55: UserWarning: SymbolDatabase.GetPrototype() is deprecated. Please use message_factory.GetMessageClass() instead. SymbolDatabase.GetPrototype() will be removed soon.\n",
      "  warnings.warn('SymbolDatabase.GetPrototype() is deprecated. Please '\n"
     ]
    }
   ],
   "source": [
    "def joint_angles_fast(coords, combos):\n",
    "    vecA = np.subtract(coords[combos[:, 1], :], coords[combos[:, 0], :])\n",
    "    vecB = np.subtract(coords[combos[:, 1], :], coords[combos[:, 2], :])\n",
    "    X = np.einsum('ij, ij -> i', vecA, vecB)/np.linalg.norm(vecA, 2, 1)/np.linalg.norm(vecB, 2, 1)\n",
    "    Y = np.linalg.norm(np.cross(vecA, vecB), 2, 1)/np.linalg.norm(vecA, 2, 1)/np.linalg.norm(vecB, 2, 1)\n",
    "    angles = np.arctan2(Y, X)\n",
    "    return angles\n",
    "\n",
    "# Set up combination vector so all the angles can be computed\n",
    "landmarks = np.arange(21)\n",
    "combos = np.array(list(combinations(landmarks, 3)))\n",
    "\n",
    "# Set up image and label directories for iteration later\n",
    "image_directory = 'C:/Users/erice/OneDrive/Desktop/MediaPipe-Hands/asl_alphabet_train/asl_alphabet_train'\n",
    "#label_directory = os.path.join('train'+'\\labels')\n",
    "\n",
    "# STEP 2: Create an HandLandmarker object.\n",
    "base_options = python.BaseOptions(model_asset_path='hand_landmarker.task')\n",
    "options = vision.HandLandmarkerOptions(base_options=base_options,\n",
    "                                       num_hands=2,\n",
    "                                       running_mode= mp.tasks.vision.RunningMode.IMAGE)\n",
    "detector = vision.HandLandmarker.create_from_options(options)\n",
    "angles_array = []\n",
    "label_array = []\n",
    "for folder in os.scandir(image_directory):\n",
    "    for file in os.scandir(folder):\n",
    "        image = mp.Image.create_from_file(file.path)\n",
    "        results = detector.detect(image)\n",
    "        landmarks = []\n",
    "        if results.hand_landmarks:\n",
    "            for landmark in results.hand_landmarks[0]:\n",
    "                coord = np.array([landmark.x, landmark.y, landmark.z])\n",
    "                landmarks.append(coord)\n",
    "            angles = joint_angles_fast(np.array(landmarks), combos)\n",
    "            label = os.path.basename(folder)\n",
    "            angles_array.append(angles)\n",
    "            label_array.append(label)"
   ]
  },
  {
   "cell_type": "code",
   "execution_count": 7,
   "metadata": {},
   "outputs": [],
   "source": [
    "angle_header = []\n",
    "for i in range(1330):\n",
    "    angle_header.append(\"Angle \" + str(i + 1))\n",
    "df_angles = pd.DataFrame(angles_array, columns=angle_header)"
   ]
  },
  {
   "cell_type": "code",
   "execution_count": 8,
   "metadata": {},
   "outputs": [],
   "source": [
    "df_angles.to_csv('angles_array.csv')"
   ]
  },
  {
   "cell_type": "code",
   "execution_count": 4,
   "metadata": {},
   "outputs": [],
   "source": [
    "df = pd.read_csv('angles_array.csv', index_col = 0)"
   ]
  },
  {
   "cell_type": "code",
   "execution_count": 9,
   "metadata": {},
   "outputs": [],
   "source": [
    "df_labels = pd.DataFrame(label_array, columns=[\"Label\"])\n",
    "df_labels.to_csv('label_array.csv')"
   ]
  },
  {
   "cell_type": "code",
   "execution_count": 10,
   "metadata": {},
   "outputs": [],
   "source": [
    "df = pd.read_csv('label_array.csv', index_col = 0)"
   ]
  }
 ],
 "metadata": {
  "kernelspec": {
   "display_name": ".venv",
   "language": "python",
   "name": "python3"
  },
  "language_info": {
   "codemirror_mode": {
    "name": "ipython",
    "version": 3
   },
   "file_extension": ".py",
   "mimetype": "text/x-python",
   "name": "python",
   "nbconvert_exporter": "python",
   "pygments_lexer": "ipython3",
   "version": "3.9.1"
  }
 },
 "nbformat": 4,
 "nbformat_minor": 2
}
