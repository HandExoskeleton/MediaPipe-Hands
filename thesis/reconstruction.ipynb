{
 "cells": [
  {
   "cell_type": "code",
   "execution_count": null,
   "metadata": {},
   "outputs": [],
   "source": [
    "%pip install pandas\n",
    "%pip install numpy"
   ]
  },
  {
   "cell_type": "code",
   "execution_count": 13,
   "metadata": {},
   "outputs": [],
   "source": [
    "import pandas as pd\n",
    "file = open(\"..\\peni\\Left\\peni_LeftHand_Coordinates.csv\", 'r')\n",
    "df = pd.read_csv(file)\n",
    "file.close()"
   ]
  },
  {
   "cell_type": "code",
   "execution_count": 20,
   "metadata": {},
   "outputs": [],
   "source": [
    "np_coords = df.to_numpy()\n",
    "list_coords = list(np_coords)"
   ]
  },
  {
   "cell_type": "code",
   "execution_count": 49,
   "metadata": {},
   "outputs": [],
   "source": [
    "parsed_list = []\n",
    "for i in range(len(list_coords[0])):\n",
    "    parsed_list.append(str(list_coords[0][i]).strip('()').split(','))"
   ]
  },
  {
   "cell_type": "code",
   "execution_count": 53,
   "metadata": {},
   "outputs": [],
   "source": [
    "import numpy as np\n",
    "parsed_array = np.array(parsed_list[0:21], dtype = np.float32)"
   ]
  },
  {
   "cell_type": "code",
   "execution_count": 55,
   "metadata": {},
   "outputs": [],
   "source": [
    "from itertools import combinations\n",
    "landmarks = np.arange(21)\n",
    "combos = np.array(list(combinations(landmarks, 3)))\n",
    "def joint_angles_fast(coords, combos):\n",
    "    vecA = np.subtract(coords[combos[:, 1], :], coords[combos[:, 0], :])\n",
    "    vecB = np.subtract(coords[combos[:, 1], :], coords[combos[:, 2], :])\n",
    "    X = np.einsum('ij, ij -> i', vecA, vecB)/np.linalg.norm(vecA, 2, 1)/np.linalg.norm(vecB, 2, 1)\n",
    "    Y = np.linalg.norm(np.cross(vecA, vecB), 2, 1)/np.linalg.norm(vecA, 2, 1)/np.linalg.norm(vecB, 2, 1)\n",
    "    angles = np.arctan2(Y, X)\n",
    "    return angles"
   ]
  },
  {
   "cell_type": "code",
   "execution_count": 58,
   "metadata": {},
   "outputs": [],
   "source": [
    "true_angles = joint_angles_fast(parsed_array, combos)"
   ]
  },
  {
   "cell_type": "code",
   "execution_count": 73,
   "metadata": {},
   "outputs": [],
   "source": [
    "#Attempt to do reconstruction using only the angles, using my hand as a starting point\n",
    "#We know the angles for sure\n",
    "\n",
    "# By rodrigues angle formula:\n",
    "for j in range(len(combos)):\n",
    "    i = 1329 - j\n",
    "    vecA = np.subtract(parsed_array[combos[i, 1], :], parsed_array[combos[i, 0], :])\n",
    "    vecB = np.subtract(parsed_array[combos[i, 1], :], parsed_array[combos[i, 2], :])\n",
    "    theta = true_angles[i]\n",
    "    k = vecA/np.linalg.norm(vecA)\n",
    "    vecB_new = vecB * np.cos(theta) + np.cross(k, vecB) * np.sin(theta) + k * np.dot(k, vecB)* (1-np.cos(theta))\n",
    "    parsed_array[combos[i, 2], :] = parsed_array[combos[i, 1], :] + vecB"
   ]
  },
  {
   "cell_type": "code",
   "execution_count": 74,
   "metadata": {},
   "outputs": [
    {
     "data": {
      "text/plain": [
       "array([2.7042944, 2.6133666, 2.5968156, ..., 3.1004274, 3.1008115,\n",
       "       3.1187978], dtype=float32)"
      ]
     },
     "execution_count": 74,
     "metadata": {},
     "output_type": "execute_result"
    }
   ],
   "source": [
    "joint_angles_fast(parsed_array, combos)"
   ]
  },
  {
   "cell_type": "code",
   "execution_count": 76,
   "metadata": {},
   "outputs": [
    {
     "data": {
      "text/plain": [
       "array([2.7042944, 2.6133666, 2.5968156, ..., 3.1004274, 3.1008115,\n",
       "       3.1187978], dtype=float32)"
      ]
     },
     "execution_count": 76,
     "metadata": {},
     "output_type": "execute_result"
    }
   ],
   "source": [
    "true_angles"
   ]
  },
  {
   "cell_type": "code",
   "execution_count": 78,
   "metadata": {},
   "outputs": [],
   "source": [
    "diff = true_angles - (joint_angles_fast(parsed_array, combos))"
   ]
  }
 ],
 "metadata": {
  "kernelspec": {
   "display_name": "Python 3",
   "language": "python",
   "name": "python3"
  },
  "language_info": {
   "codemirror_mode": {
    "name": "ipython",
    "version": 3
   },
   "file_extension": ".py",
   "mimetype": "text/x-python",
   "name": "python",
   "nbconvert_exporter": "python",
   "pygments_lexer": "ipython3",
   "version": "3.9.1"
  }
 },
 "nbformat": 4,
 "nbformat_minor": 2
}
